{
  "nbformat": 4,
  "nbformat_minor": 0,
  "metadata": {
    "colab": {
      "provenance": [],
      "collapsed_sections": []
    },
    "kernelspec": {
      "name": "python3",
      "display_name": "Python 3"
    },
    "language_info": {
      "name": "python"
    }
  },
  "cells": [
    {
      "cell_type": "code",
      "execution_count": null,
      "metadata": {
        "colab": {
          "base_uri": "https://localhost:8080/"
        },
        "id": "gCIuITlfiKme",
        "outputId": "9539327c-21c5-4689-ffdf-3845c7a510f6"
      },
      "outputs": [
        {
          "output_type": "stream",
          "name": "stdout",
          "text": [
            "[1]\n"
          ]
        }
      ],
      "source": [
        "import pandas as pd\n",
        "import numpy as np\n",
        "from sklearn import linear_model\n",
        "X=np.array([4.56,5.9,2.5,3.6,2.6,6.8,4.7,5.6,8.32,6.8]).reshape(-1,1)\n",
        "y=np.array([0,0,0,0,0,1,1,1,1,1])\n",
        "modellog=linear_model.LogisticRegression()\n",
        "modellog.fit(X,y)\n",
        "pd=modellog.predict(np.array([9]).reshape(-1,1))\n",
        "print(pd)"
      ]
    }
  ]
}